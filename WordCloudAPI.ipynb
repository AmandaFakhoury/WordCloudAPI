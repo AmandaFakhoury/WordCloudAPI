{
 "cells": [
  {
   "cell_type": "code",
   "execution_count": null,
   "metadata": {},
   "outputs": [],
   "source": [
    "from flask import Flask, render_template, url_for, request, send_file\n",
    "import pandas as pd\n",
    "from PIL import Image\n",
    "from wordcloud import WordCloud, STOPWORDS, ImageColorGenerator\n",
    "from os import path, getcwd\n",
    "import matplotlib.pyplot as plt\n",
    "import os\n",
    "\n",
    "app = Flask(__name__) \n",
    "\n",
    "@app.route('/Mandy', methods = ['POST', 'GET'])\n",
    "\n",
    "def func():\n",
    "    \n",
    "    #extract the data from the request\n",
    "    data = request.get_json()\n",
    "    doc = data[\"document\"]\n",
    "    min_freq = data[\"minimum_frequency\"]\n",
    "    max_words = data[\"maximum_number_words\"]\n",
    "    Title = data['Title']\n",
    "\n",
    "    path = os.path.dirname(doc)  #this extracts the path for later use. Not sure if it works on apple\n",
    "    \n",
    "    df = pd.read_csv(doc)  #read the file\n",
    "    \n",
    "    \n",
    "    #clean the data\n",
    "    df = df.dropna()\n",
    "    \n",
    "    df_1 = df.loc[df['Title'] == str(Title)]\n",
    "    \n",
    "    text = \" \".join(review for review in df_1.Clean_Text)\n",
    "    \n",
    "    WC = WordCloud(background_color=\"white\" , max_font_size = 50, height = 400, width = 700, collocations = False)\n",
    "\n",
    "    #WC = WordCloud(background_color='white',max_font_size = 50,height=400,width=700, collocations=False)\n",
    "    \n",
    "    dic = WC.process_text(text)\n",
    "    \n",
    "    test = {}\n",
    "    for k, v in dic.items():\n",
    "        if v >= min_freq:\n",
    "            test.update({k:v})\n",
    "    \n",
    "    \n",
    "    img = WC.fit_words(test)  #buiding the wordcloud with the updated frequency dictinary\n",
    "    \n",
    "    plt.imshow(img)\n",
    "    plt.axis('off')\n",
    "    plt.tight_layout(pad=0)\n",
    "    plt.show()\n",
    "    img.to_file(\"img.png\")  #saving the wordcloud to disk\n",
    "    x = path + \"/img.png\"   #this is where I used the path again to access the saved wordcloud to send back through flask\n",
    "    \n",
    "    return send_file(x, mimetype='image/png')\n",
    "\n",
    "    \n",
    " \n",
    "    \n",
    "if __name__ == '__main__':\n",
    "    app.run()   \n",
    "    "
   ]
  },
  {
   "cell_type": "code",
   "execution_count": null,
   "metadata": {},
   "outputs": [],
   "source": []
  },
  {
   "cell_type": "code",
   "execution_count": null,
   "metadata": {},
   "outputs": [],
   "source": []
  }
 ],
 "metadata": {
  "kernelspec": {
   "display_name": "Python 3",
   "language": "python",
   "name": "python3"
  },
  "language_info": {
   "codemirror_mode": {
    "name": "ipython",
    "version": 3
   },
   "file_extension": ".py",
   "mimetype": "text/x-python",
   "name": "python",
   "nbconvert_exporter": "python",
   "pygments_lexer": "ipython3",
   "version": "3.7.1"
  }
 },
 "nbformat": 4,
 "nbformat_minor": 2
}
